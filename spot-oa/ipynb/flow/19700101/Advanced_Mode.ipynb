{
 "cells": [
  {
   "cell_type": "markdown",
   "metadata": {},
   "source": [
    "# Knogin Hunter's Ipython Advanced Mode\n",
    "## Netflows\n",
    "This guide provides examples about how to request data, show data with some cool libraries like pandas and more.\n"
   ]
  },
  {
   "cell_type": "markdown",
   "metadata": {},
   "source": [
    "**Import Libraries**\n",
    "\n",
    "The next cell will import the necessary libraries to execute the functions. Do not remove"
   ]
  },
  {
   "cell_type": "code",
   "execution_count": 61,
   "metadata": {
    "collapsed": false
   },
   "outputs": [],
   "source": [
    "import datetime\n",
    "import pandas as pd\n",
    "import numpy as np\n",
    "import linecache, bisect\n",
    "import os\n",
    "\n",
    "spath = os.getcwd()\n",
    "path = spath.split(\"/\")\n",
    "date = path[len(path)-1]"
   ]
  },
  {
   "cell_type": "markdown",
   "metadata": {},
   "source": [
    "**Request Data**\n",
    "\n",
    "In order to request data we are using Graphql (a query language for APIs, more info at: http://graphql.org/).\n",
    "\n",
    "We provide the function to make a data request, all you need is a query and variables\n"
   ]
  },
  {
   "cell_type": "code",
   "execution_count": 62,
   "metadata": {
    "collapsed": false
   },
   "outputs": [],
   "source": [
    "def makeGraphqlRequest(query, variables):\n",
    "    return GraphQLClient.request(query, variables)"
   ]
  },
  {
   "cell_type": "markdown",
   "metadata": {},
   "source": [
    "Now that we have a function, we can run a query like this:\n",
    "\n",
    "*Note: There's no need to manually set the date for the query, by default the code will read the date from the current path"
   ]
  },
  {
   "cell_type": "code",
   "execution_count": 63,
   "metadata": {
    "collapsed": false
   },
   "outputs": [],
   "source": [
    "suspicious_query = \"\"\"query($date:SpotDateType) {\n",
    "                            flow {\n",
    "                              suspicious(date:$date)\n",
    "                                  {\n",
    "                                      srcIp\n",
    "                                      dstIp\n",
    "                                      srcPort\n",
    "                                      dstPort\n",
    "                                      score\n",
    "                                      srcIp_domain\n",
    "                                      dstIp_rep\n",
    "                                      protocol\n",
    "                                      outBytes\n",
    "                                      inPkts\n",
    "                                      srcIp_rep\n",
    "                                      inBytes\n",
    "                                      srcIp_isInternal  \n",
    "                                      rank \n",
    "                                      dstIp_geoloc\n",
    "                                      tstart\n",
    "                                      outPkts  \n",
    "                                      dstIp_isInternal\n",
    "                                      dstIp_domain\n",
    "                                  }\n",
    "                            }\n",
    "                    }\"\"\"\n",
    "\n",
    "##If you want to use a different date for your query, switch the \n",
    "##commented/uncommented following lines\n",
    "\n",
    "variables={\n",
    "    'date': datetime.datetime.strptime(date, '%Y%m%d').strftime('%Y-%m-%d')\n",
    "#     'date': \"2016-10-08\"\n",
    "    }\n",
    " \n",
    "suspicious_request = makeGraphqlRequest(suspicious_query,variables)\n",
    "\n",
    "##The variable suspicious_request will contain the resulting data from the query.\n",
    "results = suspicious_request['data']['flow']['suspicious']\n"
   ]
  },
  {
   "cell_type": "markdown",
   "metadata": {},
   "source": [
    "##Pandas Dataframes\n",
    "\n",
    "The following cell loads the results into a pandas dataframe\n",
    "\n",
    "For more information on how to use pandas, you can learn more here: https://pandas.pydata.org/pandas-docs/stable/10min.html"
   ]
  },
  {
   "cell_type": "code",
   "execution_count": 64,
   "metadata": {
    "collapsed": false
   },
   "outputs": [
    {
     "name": "stdout",
     "output_type": "stream",
     "text": [
      "             srcIp            dstIp  srcPort  dstPort     score\n",
      "0   65.108.207.181  157.245.204.195       22    62007  0.000096\n",
      "1   65.108.207.181  157.245.204.195       22    62007  0.000096\n",
      "2   65.108.207.181    190.7.216.137       22    49977  0.000096\n",
      "3   65.108.207.181    190.7.216.137       22    49977  0.000096\n",
      "4   65.108.207.181   162.62.191.231      443    45232  0.000096\n",
      "5   65.108.207.181   162.62.191.231      443    45232  0.000096\n",
      "6   65.108.207.181    64.62.197.185        0      768  0.000096\n",
      "7   65.108.207.181    64.62.197.185        0      768  0.000096\n",
      "8   65.108.207.181  157.245.204.195       22    51864  0.000096\n",
      "9   65.108.207.181  157.245.204.195       22    51864  0.000096\n",
      "10  65.108.207.181   104.152.52.189        0      771  0.000096\n",
      "11  65.108.207.181   104.152.52.189        0      771  0.000096\n",
      "12  65.108.207.181  157.245.204.195       22    61993  0.000096\n",
      "13  65.108.207.181  157.245.204.195       22    61993  0.000096\n",
      "14  65.108.207.181     104.16.20.35    38142      443  0.000096\n",
      "15  65.108.207.181     104.16.20.35    38142      443  0.000096\n",
      "16  65.108.207.181  151.101.244.209    37262      443  0.000096\n",
      "17  65.108.207.181  151.101.244.209    37262      443  0.000096\n",
      "18  65.108.207.181  151.101.244.209    34362      443  0.000096\n",
      "19  65.108.207.181  151.101.244.209    34362      443  0.000096\n",
      "20  65.108.207.181  157.245.204.195       22    52139  0.000096\n",
      "21  65.108.207.181  157.245.204.195       22    52139  0.000096\n",
      "22  65.108.207.181  157.245.204.195       22    49702  0.000096\n",
      "23  65.108.207.181  157.245.204.195       22    49702  0.000096\n",
      "24  65.108.207.181   78.193.124.169       80    53524  0.000096\n",
      "25  65.108.207.181   78.193.124.169       80    53524  0.000096\n",
      "26  65.108.207.181     69.67.150.36        0      771  0.000096\n",
      "27  65.108.207.181     69.67.150.36        0      771  0.000096\n",
      "28  65.108.207.181  151.101.244.209    34304      443  0.000096\n",
      "29  65.108.207.181  151.101.244.209    34304      443  0.000096\n",
      "..             ...              ...      ...      ...       ...\n",
      "52  65.108.207.181  157.245.204.195    18080    54864  0.000113\n",
      "53  65.108.207.181  157.245.204.195    18080    54864  0.000113\n",
      "54  65.108.207.181  157.245.204.195     8088    55115  0.000113\n",
      "55  65.108.207.181  157.245.204.195     8088    55115  0.000113\n",
      "56  65.108.207.181  157.245.204.195    18080    58748  0.000113\n",
      "57  65.108.207.181  157.245.204.195    18080    58748  0.000113\n",
      "58  65.108.207.181  157.245.204.195     8889    64767  0.000113\n",
      "59  65.108.207.181  157.245.204.195     8889    64767  0.000113\n",
      "60  65.108.207.181  157.245.204.195       22    54094  0.000200\n",
      "61  65.108.207.181  157.245.204.195       22    54094  0.000200\n",
      "62  65.108.207.181  157.245.204.195       22    49702  0.000200\n",
      "63  65.108.207.181  157.245.204.195       22    49702  0.000200\n",
      "64  65.108.207.181  157.245.204.195       22    52139  0.000200\n",
      "65  65.108.207.181  157.245.204.195       22    52139  0.000200\n",
      "66  65.108.207.181  157.245.204.195       22    50874  0.000200\n",
      "67  65.108.207.181  157.245.204.195       22    50874  0.000200\n",
      "68  65.108.207.181  157.245.204.195       22    62926  0.000200\n",
      "69  65.108.207.181  157.245.204.195       22    62926  0.000200\n",
      "70  65.108.207.181  157.245.204.195       22    53366  0.000200\n",
      "71  65.108.207.181  157.245.204.195       22    53366  0.000200\n",
      "72   95.217.255.69   65.108.207.187    55056        9  0.000201\n",
      "73   95.217.255.69   65.108.207.187    55056        9  0.000201\n",
      "74    77.83.242.56   65.108.207.136    30120    57778  0.000203\n",
      "75    77.83.242.56   65.108.207.136    30120    57778  0.000203\n",
      "76  65.108.207.181     140.82.121.4    43084      443  0.000212\n",
      "77  65.108.207.181     140.82.121.4    43084      443  0.000212\n",
      "78  65.108.207.181  157.245.204.195       22    58001  0.000214\n",
      "79  65.108.207.181  157.245.204.195       22    58001  0.000214\n",
      "80  65.108.207.181   118.123.105.87      443    32874  0.000224\n",
      "81  65.108.207.181   118.123.105.87      443    32874  0.000224\n",
      "\n",
      "[82 rows x 5 columns]\n"
     ]
    }
   ],
   "source": [
    "df = pd.read_json(json.dumps(results))\n",
    "##Printing only the selected column list from the dataframe\n",
    "##By default it will only print the first 15 results\n",
    "print df[['srcIp','dstIp','srcPort','dstPort','score']]"
   ]
  },
  {
   "cell_type": "markdown",
   "metadata": {},
   "source": [
    "##Additional operations \n",
    "\n",
    "Additional operations can be performed on the dataframe like sorting the data, filtering it and grouping it\n",
    "\n",
    "**Filtering the data**"
   ]
  },
  {
   "cell_type": "code",
   "execution_count": 65,
   "metadata": {
    "collapsed": false
   },
   "outputs": [
    {
     "name": "stdout",
     "output_type": "stream",
     "text": [
      "Empty DataFrame\n",
      "Columns: [srcIp, dstIp, srcPort, dstPort, score]\n",
      "Index: []\n"
     ]
    }
   ],
   "source": [
    "##Filter results where the destination port = 3389\n",
    "##The resulting data will be stored in df2 \n",
    "\n",
    "df2 = df[df['dstPort'].isin(['3389'])]\n",
    "print df2[['srcIp','dstIp','srcPort','dstPort','score']]"
   ]
  },
  {
   "cell_type": "markdown",
   "metadata": {},
   "source": [
    "**Ordering the data**"
   ]
  },
  {
   "cell_type": "code",
   "execution_count": 66,
   "metadata": {
    "collapsed": false
   },
   "outputs": [
    {
     "name": "stdout",
     "output_type": "stream",
     "text": [
      "    rank           srcIp            dstIp  srcPort  dstPort     score\n",
      "0      0  65.108.207.181  157.245.204.195       22    62007  0.000096\n",
      "1      0  65.108.207.181  157.245.204.195       22    62007  0.000096\n",
      "2      1  65.108.207.181    190.7.216.137       22    49977  0.000096\n",
      "3      1  65.108.207.181    190.7.216.137       22    49977  0.000096\n",
      "4      4  65.108.207.181   162.62.191.231      443    45232  0.000096\n",
      "5      4  65.108.207.181   162.62.191.231      443    45232  0.000096\n",
      "6      5  65.108.207.181    64.62.197.185        0      768  0.000096\n",
      "7      5  65.108.207.181    64.62.197.185        0      768  0.000096\n",
      "8      6  65.108.207.181  157.245.204.195       22    51864  0.000096\n",
      "9      6  65.108.207.181  157.245.204.195       22    51864  0.000096\n",
      "11     9  65.108.207.181   104.152.52.189        0      771  0.000096\n",
      "10     9  65.108.207.181   104.152.52.189        0      771  0.000096\n",
      "12    10  65.108.207.181  157.245.204.195       22    61993  0.000096\n",
      "13    10  65.108.207.181  157.245.204.195       22    61993  0.000096\n",
      "14    11  65.108.207.181     104.16.20.35    38142      443  0.000096\n",
      "15    11  65.108.207.181     104.16.20.35    38142      443  0.000096\n",
      "16    12  65.108.207.181  151.101.244.209    37262      443  0.000096\n",
      "17    12  65.108.207.181  151.101.244.209    37262      443  0.000096\n",
      "18    13  65.108.207.181  151.101.244.209    34362      443  0.000096\n",
      "19    13  65.108.207.181  151.101.244.209    34362      443  0.000096\n",
      "21    15  65.108.207.181  157.245.204.195       22    52139  0.000096\n",
      "20    15  65.108.207.181  157.245.204.195       22    52139  0.000096\n",
      "22    18  65.108.207.181  157.245.204.195       22    49702  0.000096\n",
      "23    18  65.108.207.181  157.245.204.195       22    49702  0.000096\n",
      "24    20  65.108.207.181   78.193.124.169       80    53524  0.000096\n",
      "25    20  65.108.207.181   78.193.124.169       80    53524  0.000096\n",
      "26    21  65.108.207.181     69.67.150.36        0      771  0.000096\n",
      "27    21  65.108.207.181     69.67.150.36        0      771  0.000096\n",
      "28    22  65.108.207.181  151.101.244.209    34304      443  0.000096\n",
      "29    22  65.108.207.181  151.101.244.209    34304      443  0.000096\n",
      "..   ...             ...              ...      ...      ...       ...\n",
      "52    48  65.108.207.181  157.245.204.195    18080    54864  0.000113\n",
      "53    48  65.108.207.181  157.245.204.195    18080    54864  0.000113\n",
      "54    50  65.108.207.181  157.245.204.195     8088    55115  0.000113\n",
      "55    50  65.108.207.181  157.245.204.195     8088    55115  0.000113\n",
      "56    51  65.108.207.181  157.245.204.195    18080    58748  0.000113\n",
      "57    51  65.108.207.181  157.245.204.195    18080    58748  0.000113\n",
      "58    52  65.108.207.181  157.245.204.195     8889    64767  0.000113\n",
      "59    52  65.108.207.181  157.245.204.195     8889    64767  0.000113\n",
      "61    65  65.108.207.181  157.245.204.195       22    54094  0.000200\n",
      "60    65  65.108.207.181  157.245.204.195       22    54094  0.000200\n",
      "62    71  65.108.207.181  157.245.204.195       22    49702  0.000200\n",
      "63    71  65.108.207.181  157.245.204.195       22    49702  0.000200\n",
      "64    77  65.108.207.181  157.245.204.195       22    52139  0.000200\n",
      "65    77  65.108.207.181  157.245.204.195       22    52139  0.000200\n",
      "66    79  65.108.207.181  157.245.204.195       22    50874  0.000200\n",
      "67    79  65.108.207.181  157.245.204.195       22    50874  0.000200\n",
      "68    81  65.108.207.181  157.245.204.195       22    62926  0.000200\n",
      "69    81  65.108.207.181  157.245.204.195       22    62926  0.000200\n",
      "71    87  65.108.207.181  157.245.204.195       22    53366  0.000200\n",
      "70    87  65.108.207.181  157.245.204.195       22    53366  0.000200\n",
      "72    89   95.217.255.69   65.108.207.187    55056        9  0.000201\n",
      "73    89   95.217.255.69   65.108.207.187    55056        9  0.000201\n",
      "74    90    77.83.242.56   65.108.207.136    30120    57778  0.000203\n",
      "75    90    77.83.242.56   65.108.207.136    30120    57778  0.000203\n",
      "76    91  65.108.207.181     140.82.121.4    43084      443  0.000212\n",
      "77    91  65.108.207.181     140.82.121.4    43084      443  0.000212\n",
      "78    93  65.108.207.181  157.245.204.195       22    58001  0.000214\n",
      "79    93  65.108.207.181  157.245.204.195       22    58001  0.000214\n",
      "80    99  65.108.207.181   118.123.105.87      443    32874  0.000224\n",
      "81    99  65.108.207.181   118.123.105.87      443    32874  0.000224\n",
      "\n",
      "[82 rows x 6 columns]\n"
     ]
    }
   ],
   "source": [
    "srtd = df.sort_values(by=\"rank\")\n",
    "print srtd[['rank','srcIp','dstIp','srcPort','dstPort','score']]"
   ]
  },
  {
   "cell_type": "markdown",
   "metadata": {},
   "source": [
    "**Grouping the data**"
   ]
  },
  {
   "cell_type": "code",
   "execution_count": 67,
   "metadata": {
    "collapsed": false
   },
   "outputs": [
    {
     "name": "stdout",
     "output_type": "stream",
     "text": [
      "                                 inBytes  inPkts\n",
      "srcIp          dstIp                            \n",
      "65.108.207.181 104.152.52.189        224       4\n",
      "               104.16.20.35        30922     514\n",
      "               104.16.27.35        67892    1006\n",
      "               118.123.105.87      22096      32\n",
      "               140.82.121.4        20164      54\n",
      "               141.30.62.23       110716    1644\n",
      "               151.101.244.209   2585252   26820\n",
      "               157.245.204.195  18612156   25316\n",
      "               162.62.191.231        960      16\n",
      "               190.7.216.137        1968      10\n",
      "               34.107.166.226        480      12\n",
      "               52.217.92.198       41286    1022\n",
      "               64.62.197.185        1152       2\n",
      "               69.67.150.36          350       2\n",
      "               78.193.124.169      99248     210\n",
      "77.83.242.56   65.108.207.136       1200      20\n",
      "95.217.255.69  65.108.207.187       2340      18\n"
     ]
    }
   ],
   "source": [
    "## This command will group the results by pairs of source-destination IP\n",
    "## summarizing all other columns \n",
    "grpd = df.groupby(['srcIp','dstIp']).sum()\n",
    "## This will print the resulting dataframe displaying the input and output bytes columnns\n",
    "print grpd[[\"inBytes\",\"inPkts\"]]"
   ]
  },
  {
   "cell_type": "markdown",
   "metadata": {},
   "source": [
    "**Reset Scored Connections**\n",
    "\n",
    "Uncomment and execute the following cell to reset all scored connections for this day"
   ]
  },
  {
   "cell_type": "code",
   "execution_count": 68,
   "metadata": {
    "collapsed": true
   },
   "outputs": [],
   "source": [
    "# reset_scores = \"\"\"mutation($date:SpotDateType!) {\n",
    "#                   flow{\n",
    "#                       resetScoredConnections(date:$date){\n",
    "#                       success\n",
    "#                       }\n",
    "#                   }\n",
    "#               }\"\"\"\n",
    "\n",
    "\n",
    "# variables={\n",
    "#     'date': datetime.datetime.strptime(date, '%Y%m%d').strftime('%Y-%m-%d')\n",
    "#     }\n",
    " \n",
    "# request = makeGraphqlRequest(reset_scores,variables)\n",
    "\n",
    "# print request['data']['flow']['resetScoredConnections ']['success']\n"
   ]
  },
  {
   "cell_type": "markdown",
   "metadata": {},
   "source": [
    "##Sandbox\n",
    "\n",
    "At this point you can perform your own analysis using the previously provided functions as a guide.\n",
    "\n",
    "Happy threat hunting!"
   ]
  },
  {
   "cell_type": "code",
   "execution_count": 69,
   "metadata": {
    "collapsed": true
   },
   "outputs": [],
   "source": [
    "#Your code herejhgjyuytuykhgjyr"
   ]
  }
 ],
 "metadata": {
  "kernelspec": {
   "display_name": "Python 2",
   "language": "python",
   "name": "python2"
  },
  "language_info": {
   "codemirror_mode": {
    "name": "ipython",
    "version": 2
   },
   "file_extension": ".py",
   "mimetype": "text/x-python",
   "name": "python",
   "nbconvert_exporter": "python",
   "pygments_lexer": "ipython2",
   "version": "2.7.17"
  }
 },
 "nbformat": 4,
 "nbformat_minor": 0
}
